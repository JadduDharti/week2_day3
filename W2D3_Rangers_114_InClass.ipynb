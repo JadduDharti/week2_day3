{
 "cells": [
  {
   "cell_type": "markdown",
   "metadata": {},
   "source": [
    "# Dictionaries & Sets"
   ]
  },
  {
   "cell_type": "markdown",
   "metadata": {},
   "source": [
    "## Tasks Today:\n",
    "\n",
    "1) Dictionary <br>\n",
    " &nbsp;&nbsp;&nbsp;&nbsp; a) Declaring (key, value) <br>\n",
    " &nbsp;&nbsp;&nbsp;&nbsp; b) Accessing Values <br>\n",
    " &nbsp;&nbsp;&nbsp;&nbsp; ------ Exercise #1 - Print the eye color of each person in a double nested dict <br>\n",
    " &nbsp;&nbsp;&nbsp;&nbsp; c) Adding New Pairs <br>\n",
    " &nbsp;&nbsp;&nbsp;&nbsp; d) Modifying Values <br>\n",
    " &nbsp;&nbsp;&nbsp;&nbsp; e) Removing Key, Value Pairs <br>\n",
    " &nbsp;&nbsp;&nbsp;&nbsp; f) Looping a Dictionary <br>\n",
    " &nbsp;&nbsp;&nbsp;&nbsp; g) Looping Only Keys <br>\n",
    " &nbsp;&nbsp;&nbsp;&nbsp; h) Looping Only Values <br>\n",
    " &nbsp;&nbsp;&nbsp;&nbsp; ------ Exercise #2 - Create a program\n",
    " that Prints All Key Value Pairs within a print .format()  <br>\n",
    " &nbsp;&nbsp;&nbsp;&nbsp; i) sorted() <br>\n",
    " &nbsp;&nbsp;&nbsp;&nbsp; j) Lists with Dictionaries <br>\n",
    " &nbsp;&nbsp;&nbsp;&nbsp; k) Dictionaries with Lists <br>\n",
    " &nbsp;&nbsp;&nbsp;&nbsp; l) Dictionaries with Dictionaries <br>\n",
    " &nbsp;&nbsp;&nbsp;&nbsp; ------ Exercise #3 - Write a Function that asks someone's name and address, and then stores that into a dictionary, which prints all names and addresses after they're done putting information in...  <br>\n",
    "2) Dictionaries vs. Lists (over time)<br>\n",
    "3) Set <br>\n",
    " &nbsp;&nbsp;&nbsp;&nbsp; a) Declaring <br>\n",
    " &nbsp;&nbsp;&nbsp;&nbsp; b) .add() <br>\n",
    " &nbsp;&nbsp;&nbsp;&nbsp; c) .remove() <br>\n",
    " &nbsp;&nbsp;&nbsp;&nbsp; d) .union() <br>\n",
    " &nbsp;&nbsp;&nbsp;&nbsp; e) .intersection() <br>\n",
    " &nbsp;&nbsp;&nbsp;&nbsp; f) .difference() <br>\n",
    " &nbsp;&nbsp;&nbsp;&nbsp; g) Frozen Set <br>\n",
    "4) Modules <br>\n",
    " &nbsp;&nbsp;&nbsp;&nbsp; a) Importing Entire Modules <br>\n",
    " &nbsp;&nbsp;&nbsp;&nbsp; b) Importing Methods Only <br>\n",
    " &nbsp;&nbsp;&nbsp;&nbsp; c) Using the 'as' Keyword <br>\n",
    " &nbsp;&nbsp;&nbsp;&nbsp; d) Creating a Module <br>\n",
    "5) Exercises <br>\n",
    " &nbsp;&nbsp;&nbsp;&nbsp; a) Build a Shopping Cart <br>\n",
    " &nbsp;&nbsp;&nbsp;&nbsp; b) Create Your Own Module <br>"
   ]
  },
  {
   "cell_type": "markdown",
   "metadata": {},
   "source": [
    "## Dictionary <br>\n",
    "<p>A collection of data with 'key:value' pairs. Dictionaries are ordered as of Python 3.6</p>"
   ]
  },
  {
   "cell_type": "markdown",
   "metadata": {},
   "source": [
    "##### Declaring (key, value)"
   ]
  },
  {
   "cell_type": "code",
   "execution_count": 12,
   "metadata": {},
   "outputs": [],
   "source": [
    "#keys always unique\n",
    "#can you use sting ad integer as a key\n",
    "\n",
    "d_1 = {} #emplty dictionary\n",
    "\n",
    "d_2 = dict()\n",
    "\n",
    "d_3 = {\n",
    "    \n",
    "    \"Tom\": \"255 Main Street\",\n",
    "    \"Jerry\": \"256 main street\",\n",
    "    0: \"This is zoro\"\n",
    "    \n",
    "}"
   ]
  },
  {
   "cell_type": "code",
   "execution_count": null,
   "metadata": {
    "scrolled": false
   },
   "outputs": [],
   "source": []
  },
  {
   "cell_type": "markdown",
   "metadata": {},
   "source": [
    "##### Accessing Values"
   ]
  },
  {
   "cell_type": "code",
   "execution_count": 13,
   "metadata": {},
   "outputs": [
    {
     "name": "stdout",
     "output_type": "stream",
     "text": [
      "255 Main Street\n",
      "256 main street\n",
      "This is zoro\n"
     ]
    }
   ],
   "source": [
    "#dict[key]\n",
    "\n",
    "print(d_3[\"Tom\"])\n",
    "print(d_3[\"Jerry\"])\n",
    "print(d_3[0])"
   ]
  },
  {
   "cell_type": "code",
   "execution_count": 9,
   "metadata": {},
   "outputs": [
    {
     "name": "stdout",
     "output_type": "stream",
     "text": [
      "Jigar Patel\n"
     ]
    }
   ],
   "source": [
    "d_4 = {\n",
    "    \"name\": \"Dharti Patel\",\n",
    "    \"name\": \"Jigar Patel\"\n",
    "}\n",
    "print(d_4[\"name\"])"
   ]
  },
  {
   "cell_type": "markdown",
   "metadata": {},
   "source": [
    "## In-Class Exercise #1 - Print a formatted statement from the dictionary below <br>\n",
    "<p>The output should be '2018 Chevrolet Silverado'</p>"
   ]
  },
  {
   "cell_type": "code",
   "execution_count": 19,
   "metadata": {},
   "outputs": [
    {
     "name": "stdout",
     "output_type": "stream",
     "text": [
      "2018 Chevrolet Silverado\n"
     ]
    }
   ],
   "source": [
    "dict = {\n",
    "    \"year\": 2018,\n",
    "    \"make\": \"Chevrolet\",\n",
    "    \"model\": \"Silverado\"\n",
    "}\n",
    "\n",
    "print(dict[\"year\"],dict[\"make\"],dict[\"model\"])"
   ]
  },
  {
   "cell_type": "code",
   "execution_count": 21,
   "metadata": {},
   "outputs": [
    {
     "name": "stdout",
     "output_type": "stream",
     "text": [
      "2018 Chevrolet Silverado\n"
     ]
    }
   ],
   "source": [
    "truck = {\n",
    "    \"year\": 2018,\n",
    "    'make': 'Chevrolet',\n",
    "    'model': 'Silverado'\n",
    "}\n",
    "\n",
    "\n",
    "print(f'{truck[\"year\"]} {truck[\"make\"]} {truck[\"model\"]}')\n",
    "\n"
   ]
  },
  {
   "cell_type": "code",
   "execution_count": null,
   "metadata": {},
   "outputs": [],
   "source": []
  },
  {
   "cell_type": "markdown",
   "metadata": {},
   "source": [
    "##### Adding New Pairs"
   ]
  },
  {
   "cell_type": "code",
   "execution_count": 23,
   "metadata": {},
   "outputs": [
    {
     "name": "stdout",
     "output_type": "stream",
     "text": [
      "{'Tom': '255 Main Street', 'Jerry': '256 main street', 0: 'This is zoro', 'Spike': '257 main street'}\n",
      "{'Bevarage': 'Water'}\n"
     ]
    }
   ],
   "source": [
    "#dict[key] = value\n",
    "\n",
    "d_3 = {\n",
    "    \n",
    "    \"Tom\": \"255 Main Street\",\n",
    "    \"Jerry\": \"256 main street\",\n",
    "    0: \"This is zoro\"\n",
    "    \n",
    "}\n",
    "\n",
    "d_3[\"Spike\"] = \"257 main street\"\n",
    "\n",
    "print(d_3)\n",
    "\n",
    "\n",
    "d_4 = {}\n",
    "\n",
    "d_4[\"Bevarage\"] = \"Water\"\n",
    "print(d_4)"
   ]
  },
  {
   "cell_type": "markdown",
   "metadata": {},
   "source": [
    "##### Modifying Values"
   ]
  },
  {
   "cell_type": "code",
   "execution_count": 25,
   "metadata": {},
   "outputs": [
    {
     "name": "stdout",
     "output_type": "stream",
     "text": [
      "{'Bevarage': 'Water', 'Baverage': 'Coco cola'}\n",
      "{'Bevarage': 'Water', 'Baverage': 'Coco cola', 'Baverage2': 'belle vle'}\n"
     ]
    }
   ],
   "source": [
    "#modify existing key and value\n",
    "d_4[\"Baverage\"] = \"Coco cola\"\n",
    "print(d_4)\n",
    "\n",
    "drink = \"belle vle\"\n",
    "\n",
    "if drink not in d_4:\n",
    "    d_4[\"Baverage2\"] = drink\n",
    "    \n",
    "print(d_4)"
   ]
  },
  {
   "cell_type": "code",
   "execution_count": 26,
   "metadata": {},
   "outputs": [
    {
     "name": "stdout",
     "output_type": "stream",
     "text": [
      "{'Tom': '255 Main Street', 'Jerry': '255 main street', 0: 'This is zoro', 'Spike': '257 main street'}\n"
     ]
    }
   ],
   "source": [
    "d_3[\"Jerry\"] = \"255 main street\"\n",
    "print(d_3)"
   ]
  },
  {
   "cell_type": "markdown",
   "metadata": {},
   "source": [
    "##### Removing Key, Value Pairs"
   ]
  },
  {
   "cell_type": "code",
   "execution_count": 28,
   "metadata": {},
   "outputs": [
    {
     "name": "stdout",
     "output_type": "stream",
     "text": [
      "{'Tom': '255 Main Street', 'Jerry': '255 main street', 0: 'This is zoro', 'Spike': '257 main street'}\n",
      "{'Tom': '255 Main Street', 'Jerry': '255 main street', 'Spike': '257 main street'}\n"
     ]
    }
   ],
   "source": [
    "#del dict[key] \n",
    "#del(mt_list[0]) or del dict[key] or del mylist[0]\n",
    "\n",
    "print(d_3)\n",
    "\n",
    "del d_3[0]\n",
    "print(d_3)"
   ]
  },
  {
   "cell_type": "markdown",
   "metadata": {},
   "source": [
    "##### Looping a Dictionary"
   ]
  },
  {
   "cell_type": "code",
   "execution_count": 29,
   "metadata": {},
   "outputs": [
    {
     "name": "stdout",
     "output_type": "stream",
     "text": [
      "Tom lives at this address: 255 Main Street\n",
      "Jerry lives at this address: 256 main street\n",
      "0 lives at this address: This is zoro\n"
     ]
    }
   ],
   "source": [
    "#dict.items()\n",
    "d_3 = {\n",
    "    \n",
    "    \"Tom\": \"255 Main Street\",\n",
    "    \"Jerry\": \"256 main street\",\n",
    "    0: \"This is zoro\"\n",
    "    \n",
    "}\n",
    "\n",
    "for name, address in d_3.items():\n",
    "    print(f\"{name} lives at this address: {address}\")"
   ]
  },
  {
   "cell_type": "code",
   "execution_count": 31,
   "metadata": {},
   "outputs": [
    {
     "name": "stdout",
     "output_type": "stream",
     "text": [
      "0 Dharti\n",
      "1 Jigar\n",
      "2 Vrund\n",
      "3 Sargam\n",
      "4 luv\n",
      "{0: 'Dharti', 1: 'Jigar', 2: 'Vrund', 3: 'Sargam', 4: 'luv'}\n",
      "{0: 'Dharti', 1: 'Jigar', 2: 'Vrund', 3: 'Sargam', 4: 'luv'}\n"
     ]
    }
   ],
   "source": [
    "#enumerating\n",
    "\n",
    "my_list = [\"Dharti\",\"Jigar\",\"Vrund\",\"Sargam\",\"luv\"]\n",
    "\n",
    "name_dict = {}\n",
    "\n",
    "for i, name in enumerate(my_list):\n",
    "    name_dict[i] = name\n",
    "    \n",
    "for k, v in name_dict.items():\n",
    "    print(k, v)\n",
    "\n",
    "name_dict2 = {k:v for k, v in enumerate(my_list)}\n",
    "\n",
    "print(name_dict)\n",
    "print(name_dict2)"
   ]
  },
  {
   "cell_type": "markdown",
   "metadata": {},
   "source": [
    "##### Looping Only Keys"
   ]
  },
  {
   "cell_type": "code",
   "execution_count": 33,
   "metadata": {},
   "outputs": [
    {
     "name": "stdout",
     "output_type": "stream",
     "text": [
      "Tom\n",
      "Jerry\n",
      "Tike\n",
      "Spike\n",
      "\n",
      "\n",
      "Tom\n",
      "Jerry\n",
      "Tike\n",
      "Spike\n"
     ]
    }
   ],
   "source": [
    "#dict.keys()\n",
    "d_3 = {\n",
    "    \n",
    "    \"Tom\": \"255 Main Street\",\n",
    "    \"Jerry\": \"256 main street\",\n",
    "    \"Tike\": \"257 main street\",\n",
    "    \"Spike\": \"257 main street\"\n",
    "}\n",
    "\n",
    "for key in d_3:\n",
    "    print(key)\n",
    "    \n",
    "print(\"\\n\")\n",
    "\n",
    "for name in d_3.keys():\n",
    "    print(name)"
   ]
  },
  {
   "cell_type": "markdown",
   "metadata": {},
   "source": [
    "##### Looping Only Values"
   ]
  },
  {
   "cell_type": "code",
   "execution_count": 39,
   "metadata": {
    "scrolled": true
   },
   "outputs": [
    {
     "name": "stdout",
     "output_type": "stream",
     "text": [
      "254 Main Street\n",
      "256 main street\n",
      "258 main street\n",
      "257 main street\n",
      "\n",
      "\n",
      "254 Main Street\n",
      "256 main street\n",
      "258 main street\n",
      "257 main street 60618\n"
     ]
    }
   ],
   "source": [
    "#dict.values()\n",
    "d_3 = {\n",
    "    \n",
    "    \"Tom\": \"254 Main Street\",\n",
    "    \"Jerry\": \"256 main street\",\n",
    "    \"Tike\": \"258 main street\",\n",
    "    \"Spike\": \"257 main street\"\n",
    "}\n",
    "\n",
    "for address in d_3.values():\n",
    "    print(address)\n",
    "    \n",
    "print(\"\\n\")\n",
    "\n",
    "for address in d_3.values():\n",
    "    if address == \"254 main street\":\n",
    "        print(\"Tom lives here\")\n",
    "    elif address == \"257 main street\":\n",
    "        d_3[\"Spike\"] = d_3[\"Spike\"] + \" 60618\"\n",
    "        print(d_3[\"Spike\"])\n",
    "    else:\n",
    "        print(address)"
   ]
  },
  {
   "cell_type": "markdown",
   "metadata": {},
   "source": [
    "## In-Class Exercise #2 - Create a Function that Prints All Key Value Pairs within a formatted string  <br>\n",
    "<p><b>Output should be:</b><br>\n",
    "Max has blue eyes<br>\n",
    "Lilly has brown eyes<br>\n",
    "Barney has blue eyes<br>\n",
    "etc.\n",
    "</p>"
   ]
  },
  {
   "cell_type": "code",
   "execution_count": 40,
   "metadata": {
    "scrolled": true
   },
   "outputs": [
    {
     "name": "stdout",
     "output_type": "stream",
     "text": [
      "Max has blue eyes!\n",
      "Lilly has brown eyes!\n",
      "Barney has green eyes!\n",
      "Ted has purple eyes!\n",
      "Sasuke has sharingan eyes!\n"
     ]
    }
   ],
   "source": [
    "# use the dict below\n",
    "people = {\n",
    "    'Max' : 'blue',\n",
    "    'Lilly' : 'brown',\n",
    "    'Barney' : 'green',\n",
    "    'Ted' : 'purple',\n",
    "    'Sasuke' : 'sharingan'    \n",
    "}\n",
    "\n",
    "for person, eye_color in people.items():\n",
    "    print(f\"{person} has {eye_color} eyes!\")\n"
   ]
  },
  {
   "cell_type": "code",
   "execution_count": null,
   "metadata": {},
   "outputs": [],
   "source": []
  },
  {
   "cell_type": "markdown",
   "metadata": {},
   "source": [
    "##### sorted()"
   ]
  },
  {
   "cell_type": "code",
   "execution_count": 42,
   "metadata": {},
   "outputs": [
    {
     "name": "stdout",
     "output_type": "stream",
     "text": [
      "Values ['blue', 'brown', 'green', 'purple', 'sharingan']\n",
      "Keys ['Barney', 'Lilly', 'Max', 'Sasuke', 'Ted']\n",
      "Key, Values Pairs [('Barney', 'green'), ('Lilly', 'brown'), ('Max', 'blue'), ('Sasuke', 'sharingan'), ('Ted', 'purple')]\n"
     ]
    }
   ],
   "source": [
    "#sort by key--> list of tuples sorted by key\n",
    "\n",
    "people = {\n",
    "    'Max' : 'blue',\n",
    "    'Lilly' : 'brown',\n",
    "    'Barney' : 'green',\n",
    "    'Ted' : 'purple',\n",
    "    'Sasuke' : 'sharingan'    \n",
    "}\n",
    "\n",
    "print(\"Values\", sorted(people.values()))\n",
    "print(\"Keys\", sorted(people.keys()))\n",
    "\n",
    "print(\"Key, Values Pairs\", sorted(people.items()))"
   ]
  },
  {
   "cell_type": "code",
   "execution_count": 45,
   "metadata": {},
   "outputs": [
    {
     "name": "stdout",
     "output_type": "stream",
     "text": [
      "[('Barney', 'green'), ('Lilly', 'brown'), ('Max', 'blue'), ('Sasuke', 'sharingan'), ('Ted', 'purple')]\n",
      "green\n"
     ]
    }
   ],
   "source": [
    "people = {\n",
    "    'Max' : 'blue',\n",
    "    'Lilly' : 'brown',\n",
    "    'Barney' : 'green',\n",
    "    'Ted' : 'purple',\n",
    "    'Sasuke' : 'sharingan'    \n",
    "}\n",
    "\n",
    "sorted_items = sorted(people.items())\n",
    "print(sorted_items)\n",
    "\n",
    "\n",
    "print(sorted_items[0][1])"
   ]
  },
  {
   "cell_type": "markdown",
   "metadata": {},
   "source": [
    "##### List with Dictionaries"
   ]
  },
  {
   "cell_type": "code",
   "execution_count": 49,
   "metadata": {},
   "outputs": [
    {
     "name": "stdout",
     "output_type": "stream",
     "text": [
      "Gaara\n",
      "Naruto\n",
      "{'leaf_village': 'Naruto', 'leaf_village2': 'Kakashi'}\n"
     ]
    }
   ],
   "source": [
    "shinobi = [\"Shikamaru\", \"Gaara\", \"Octopops\", {\"leaf_village\": \"Naruto\", \"leaf_village2\": \"Kakashi\"}]\n",
    "\n",
    "print(shinobi[1])\n",
    "\n",
    "print(shinobi[3][\"leaf_village\"])\n",
    "print(shinobi[-1])"
   ]
  },
  {
   "cell_type": "code",
   "execution_count": 54,
   "metadata": {},
   "outputs": [
    {
     "name": "stdout",
     "output_type": "stream",
     "text": [
      "Bob\n",
      "{'random_person1': 'Bob', 'random_person2': 'Joy'}\n",
      "Joy\n"
     ]
    }
   ],
   "source": [
    "names = [\"Dave\",\"Sandy\",\"Tony\",{\"random_person1\":\"Bob\",\"random_person2\": \"Joy\"},\"Tom\"]\n",
    "\n",
    "print(names[3][\"random_person1\"])\n",
    "\n",
    "random_people = names[3]\n",
    "print(random_people)\n",
    "print(random_people[\"random_person2\"])\n"
   ]
  },
  {
   "cell_type": "markdown",
   "metadata": {},
   "source": [
    "##### Dictionaries with Lists"
   ]
  },
  {
   "cell_type": "code",
   "execution_count": 57,
   "metadata": {},
   "outputs": [
    {
     "name": "stdout",
     "output_type": "stream",
     "text": [
      "1\n",
      "90\n"
     ]
    }
   ],
   "source": [
    "random_data = {\n",
    "    \"list_1\" : [54, 67, 90],\n",
    "     \"name\": [\"John\",\"Laura\",\"Bulbasaur\"],\n",
    "    1: [1, 1, 1, 1]\n",
    "}\n",
    "\n",
    "print(random_data[1][1])\n",
    "print(random_data[\"list_1\"][2])"
   ]
  },
  {
   "cell_type": "code",
   "execution_count": 59,
   "metadata": {},
   "outputs": [
    {
     "name": "stdout",
     "output_type": "stream",
     "text": [
      "transform\n"
     ]
    }
   ],
   "source": [
    "ditto = {\n",
    "    'abilities': [{'name': 'transform'},{'name':'another transform'}]\n",
    "}\n",
    "\n",
    "print(ditto['abilities'][0]['name'])"
   ]
  },
  {
   "cell_type": "markdown",
   "metadata": {},
   "source": [
    "##### Dictionaries with Dictionaries"
   ]
  },
  {
   "cell_type": "code",
   "execution_count": 63,
   "metadata": {
    "scrolled": true
   },
   "outputs": [
    {
     "name": "stdout",
     "output_type": "stream",
     "text": [
      "\n",
      " Here is all our Favourite food\n",
      "\n",
      "Ryan's favourite foods are: \n",
      "Tacos\n",
      "Tortas\n",
      "Burritos\n",
      "Pie\n",
      "Brownies\n",
      "Chocolate Chip Cookies\n",
      "\n",
      "Alex's favourite foods are: \n",
      "Pupusas\n",
      "Tacos\n",
      "Fajitas\n",
      "Pastries\n",
      "Ice Cream\n",
      "Canollis\n",
      "Cheesecake\n",
      "Chantilly Cupcakes\n",
      "Cobbler\n",
      "Pie\n",
      "\n",
      "Ethan's favourite foods are: \n",
      "KGLW\n",
      "Uncle Spudd\n",
      "Your moms house\n",
      "MF DOOM\n",
      "Kendrick\n",
      "Andrae 3000\n",
      "\n",
      "Enoch's favourite foods are: \n",
      "Sushi\n",
      "Tempura\n",
      "Onigiri\n",
      "Cheesecake\n",
      "Applie Pie\n",
      "Yuzu Creme Brulee\n",
      "\n",
      "Htae's favourite foods are: \n",
      "Miso\n",
      "Shoyu\n",
      "Shin\n",
      "Dr.Pepper\n",
      "Water\n",
      "Boba tea\n",
      "\n",
      "Dez's favourite foods are: \n",
      "Sushi\n",
      "Ramen\n",
      "Pho\n",
      "Curry\n",
      "Sidecar\n",
      "Sk's\n",
      "Doughnuttery\n",
      "\n",
      "Dharti's favourite foods are: \n",
      "Paneer\n",
      "Rajma\n",
      "Naan\n",
      "Jalabi\n",
      "Mohanthal\n",
      "icecream\n",
      "\n",
      "Lyle's favourite foods are: \n",
      "airmax\n",
      "jordan\n",
      "cortez\n",
      "stansmiths\n",
      "promodel\n",
      "nmd\n",
      "\n",
      "Daniel's favourite foods are: \n",
      "garri\n",
      "fufu\n",
      "egusi\n",
      "rice\n",
      "beans\n",
      "eba\n",
      "\n",
      "Chuck's favourite foods are: \n",
      "Cheese_Burger\n",
      "Fries\n",
      "Coke\n",
      "Cheese_Cake\n",
      "Milk_Shake\n",
      "Cake\n",
      "\n",
      "Ben's favourite foods are: \n",
      "Tika Masala\n",
      "Naan\n",
      "Chapati\n",
      "Chicken Curry\n",
      "Fish Curry\n",
      "Cheesecake\n",
      "Empanadas\n",
      "Churros\n",
      "Ice Cream\n",
      "Mangonada\n",
      "\n",
      "Ewa's favourite foods are: \n",
      "Pizza\n",
      "Pasta\n",
      "Dessert\n",
      "Tacos\n",
      "Burritos\n",
      "Dessert\n",
      "\n",
      "Salim's favourite foods are: \n",
      "lent soup , kebaba , Gyro \n",
      "Baklava, basbousa ,maamoul\n"
     ]
    }
   ],
   "source": [
    "food_dict = {\n",
    "    \"Ryan\": {\n",
    "        \"Mexican\": [\"Tacos\", \"Tortas\", \"Burritos\"],\n",
    "        \"Desserts\": ['Pie', \"Brownies\", \"Chocolate Chip Cookies\"]\n",
    "    },\n",
    "    \"Alex\": {\n",
    "        \"Hispanic\": ['Pupusas', 'Tacos', 'Fajitas'],\n",
    "        \"Sweets\": ['Pastries', 'Ice Cream', 'Canollis'],\n",
    "        \"More Sweets\" : ['Cheesecake', 'Chantilly Cupcakes', 'Cobbler', 'Pie']\n",
    "    },\n",
    "     \"Ethan\": {\n",
    "        \"Rock\": ['KGLW', 'Uncle Spudd', 'Your moms house'], \n",
    "        'Rap': ['MF DOOM', 'Kendrick', 'Andrae 3000']\n",
    "    },\n",
    "    \"Enoch\": {\n",
    "        \"Japanese\":[\"Sushi\", \"Tempura\", \"Onigiri\"],\n",
    "        \"Desserts\":[\"Cheesecake\", \"Applie Pie\", \"Yuzu Creme Brulee\"]\n",
    "    },\n",
    "    \"Htae\": {\n",
    "        \"Ramen\": [\"Miso\", \"Shoyu\", \"Shin\"],\n",
    "        \"Drinks\": [\"Dr.Pepper\", \"Water\", \"Boba tea\"]\n",
    "    },\n",
    "    \"Dez\": {\n",
    "        \"Asian\":[\"Sushi\", \"Ramen\", \"Pho\", \"Curry\"],\n",
    "        \"Doughnt_shops\": [\"Sidecar\",\"Sk's\", \"Doughnuttery\"]\n",
    "    },\n",
    "    \"Dharti\": {\n",
    "        \"Indian\": [\"Paneer\",\"Rajma\",\"Naan\"],\n",
    "        \"Sweet\": [\"Jalabi\",\"Mohanthal\",\"icecream\"]\n",
    "    },\n",
    "      \"Lyle\": {\n",
    "        'nike': ['airmax', 'jordan', 'cortez'],\n",
    "        'adidas': ['stansmiths', 'promodel', 'nmd']\n",
    "    },\n",
    "    'Daniel' :{\n",
    "    'Afri':['garri', 'fufu', 'egusi'],\n",
    "    'easyfood':['rice', 'beans', 'eba']\n",
    "    },\n",
    "    \"Chuck\": {\n",
    "       \"American\" : ['Cheese_Burger', 'Fries', 'Coke'],\n",
    "       \"Desserts\" : ['Cheese_Cake', 'Milk_Shake', 'Cake'],\n",
    "    },\n",
    "    \"Ben\": {\n",
    "    \"Indian\": [\"Tika Masala\", \"Naan\", \"Chapati\", \"Chicken Curry\", \"Fish Curry\",],\n",
    "    \"Desserts\": [\"Cheesecake\", \"Empanadas\", \"Churros\", \"Ice Cream\", \"Mangonada\"],\n",
    "    },\n",
    "    'Ewa': {\n",
    "    'Italian': {\n",
    "        'Pizza': ['Margherita', 'Pepperoni', 'Capricciosa'],\n",
    "        'Pasta': ['Spaghetti Bolognese', 'Carbonara', 'Pesto'],\n",
    "        'Dessert': ['Tiramisu', 'Panna Cotta', 'Cannoli']\n",
    "    },\n",
    "    \n",
    "    'Mexican': {\n",
    "        'Tacos': ['Al Pastor', 'Carnitas', 'Barbacoa'],\n",
    "        'Burritos': ['Bean and Cheese', 'Carne Asada', 'Chicken'],\n",
    "        'Dessert': ['Churros', 'Flan', 'Sopapillas']\n",
    "    }},\n",
    "     \"Salim\" : {\n",
    "        \"turkish\" :[\"lent soup , kebaba , Gyro \"],\n",
    "        \"Dessert \" :[\"Baklava, basbousa ,maamoul\"]\n",
    "    }\n",
    "    \n",
    "    \n",
    "}\n",
    "\n",
    "\n",
    "print(\"\\n Here is all our Favourite food\")\n",
    "\n",
    "for name in food_dict.keys():\n",
    "    print(f\"\\n{name}'s favourite foods are: \")\n",
    "    for food_type in food_dict[name].keys():\n",
    "          for food in food_dict[name][food_type]:\n",
    "            print(food)\n",
    "    \n",
    "    \n"
   ]
  },
  {
   "cell_type": "code",
   "execution_count": null,
   "metadata": {},
   "outputs": [],
   "source": []
  },
  {
   "cell_type": "code",
   "execution_count": null,
   "metadata": {},
   "outputs": [],
   "source": []
  },
  {
   "cell_type": "code",
   "execution_count": null,
   "metadata": {},
   "outputs": [],
   "source": []
  },
  {
   "cell_type": "code",
   "execution_count": null,
   "metadata": {},
   "outputs": [],
   "source": []
  },
  {
   "cell_type": "markdown",
   "metadata": {},
   "source": [
    "## Dictionaries vs. Lists (over time) Example of RUNTIME\n",
    "### When inputting values in a Dictionary vs List"
   ]
  },
  {
   "cell_type": "code",
   "execution_count": 65,
   "metadata": {},
   "outputs": [],
   "source": [
    "import time\n",
    "\n",
    "#create dictionary\n",
    "\n",
    "d = {}\n",
    "\n",
    "for i in range(10000000):\n",
    "    d[i] = \"value\" + str(i)\n",
    "\n",
    "#create list\n",
    "big_list = [x for x in range(10000000)]"
   ]
  },
  {
   "cell_type": "code",
   "execution_count": 66,
   "metadata": {},
   "outputs": [
    {
     "name": "stdout",
     "output_type": "stream",
     "text": [
      "value9999999\n",
      "elapsed time for dictionsry: 0.0009982585906982422\n",
      "9999999\n",
      "elapsed time for list: 1.438408613204956\n"
     ]
    }
   ],
   "source": [
    "#track time for the dictonary\n",
    "\n",
    "start_time = time.time()\n",
    "\n",
    "print(d[9999999])\n",
    "end_time = time.time() - start_time\n",
    "\n",
    "print(f\"elapsed time for dictionsry: {end_time}\")\n",
    "\n",
    "start_time = time.time()\n",
    "for i in range(len(big_list)):\n",
    "    if i == 9999999:\n",
    "        print(i)\n",
    "        \n",
    "end_time = time.time() - start_time\n",
    "print(f\"elapsed time for list: {end_time}\")"
   ]
  },
  {
   "cell_type": "markdown",
   "metadata": {},
   "source": [
    "## Exercise #3 - Write a Function that asks someone's name and address, and then stores that into a dictionary, and continues to do so until they choose to 'quit'. Once they quit, the program should print all names and addresses. <br>\n",
    "<p>\n",
    "<b>Proper steps:</b><br>\n",
    "step 1: write a function that takes in information and stores it in a dictionary<br>\n",
    "step 2: define an empty dictionary to work with<br>\n",
    "step 3: create our loop, which asks the user for information until they quit<br>\n",
    "step 4: ask for the information, and store it into variables<br>\n",
    "step 5: check if the user types quit<br>\n",
    "step 5a: print out all information<br>\n",
    "step 5b: break out of the loop<br>\n",
    "step 6: if they didn't quit, add the information to the dictionary<br>\n",
    "step 7: invoke the function by calling it\n",
    "</p>"
   ]
  },
  {
   "cell_type": "code",
   "execution_count": 72,
   "metadata": {},
   "outputs": [
    {
     "name": "stdout",
     "output_type": "stream",
     "text": [
      "Enter a name or say 'quit' to quit: Dharti\n",
      "Enter an address or say 'quit' to quitChicago\n",
      "Enter a name or say 'quit' to quit: Jigar\n",
      "Enter an address or say 'quit' to quitIndiana\n",
      "Enter a name or say 'quit' to quit: quit\n",
      "The address for Dharti, is Chicago. Go visit them! But call first cause otherwise thats rude.\n",
      "The address for Jigar, is Indiana. Go visit them! But call first cause otherwise thats rude.\n"
     ]
    }
   ],
   "source": [
    "# step 2:\n",
    "info = {}\n",
    "\n",
    "#step 3\n",
    "while True:\n",
    "    #step 4\n",
    "    name = input(\"Enter a name or say 'quit' to quit: \")\n",
    "    if name.lower().strip() != 'quit':\n",
    "        address = input(\"Enter an address or say 'quit' to quit\")\n",
    "        \n",
    "    # step 5\n",
    "    if name.lower().strip() == 'quit' or address.lower().strip() == 'quit':\n",
    "        #step 5a\n",
    "        for key, value in info.items():\n",
    "            print(f\"The address for {key}, is {value}. Go visit them! But call first cause otherwise thats rude.\")\n",
    "        break\n",
    "    \n",
    "    info[name] = address"
   ]
  },
  {
   "cell_type": "markdown",
   "metadata": {},
   "source": [
    "## Set <br>\n",
    "<p>A Set is an unordered collection data type that is iterable (loop), mutable, and has no duplicate elements.<br>Major advantage is that it is highly optimized in checking if something is in the set, as opposed to checking if something is in a list.</p>"
   ]
  },
  {
   "cell_type": "markdown",
   "metadata": {},
   "source": [
    "##### Declaring"
   ]
  },
  {
   "cell_type": "code",
   "execution_count": 77,
   "metadata": {
    "scrolled": false
   },
   "outputs": [
    {
     "name": "stdout",
     "output_type": "stream",
     "text": [
      "{8, 1, 4}\n",
      "{1, 2, 3, 4, 5, 6, 8}\n",
      "[1, 2, 3, 4, 5, 6, 8]\n",
      "7\n"
     ]
    }
   ],
   "source": [
    "#set() or {}\n",
    "#{no order{3, 2, 1} might output {2, 3, 1}}\n",
    "\n",
    "nums = {4, 1, 8, 4}\n",
    "\n",
    "print(nums)\n",
    "\n",
    "my_list = [1, 2, 1, 2, 1, 2, 1, 5, 8, 6, 3, 4, 5, 4, 5, 4, 4,]\n",
    "\n",
    "my_set = set(my_list)\n",
    "print(my_set)\n",
    "\n",
    "my_list = list(my_set)\n",
    "print(my_list)\n",
    "\n",
    "print(len(my_set))\n",
    "\n"
   ]
  },
  {
   "cell_type": "code",
   "execution_count": null,
   "metadata": {
    "scrolled": true
   },
   "outputs": [],
   "source": []
  },
  {
   "cell_type": "code",
   "execution_count": null,
   "metadata": {},
   "outputs": [],
   "source": []
  },
  {
   "cell_type": "markdown",
   "metadata": {},
   "source": [
    "##### .add()"
   ]
  },
  {
   "cell_type": "code",
   "execution_count": 78,
   "metadata": {},
   "outputs": [
    {
     "name": "stdout",
     "output_type": "stream",
     "text": [
      "{1, 2, 3, 4, 5, 6, 22, 8}\n",
      "{1, 2, 3, 4, 5, 6, 8, 22, 'Hello'}\n",
      "{1, 2, 3, 4, 5, 6, 8, 22, 'Hello'}\n"
     ]
    }
   ],
   "source": [
    "#set.add()\n",
    "\n",
    "my_set = {1, 2, 3, 4, 5, 6, 8}\n",
    "my_set.add(22)\n",
    "print(my_set)\n",
    "\n",
    "my_set.add(\"Hello\")\n",
    "print(my_set)\n",
    "\n",
    "my_set.add(22)\n",
    "print(my_set)\n"
   ]
  },
  {
   "cell_type": "markdown",
   "metadata": {},
   "source": [
    "##### .remove()"
   ]
  },
  {
   "cell_type": "code",
   "execution_count": 80,
   "metadata": {},
   "outputs": [
    {
     "name": "stdout",
     "output_type": "stream",
     "text": [
      "{1, 2, 3, 5, 6, 8}\n",
      "{1, 2, 3, 5, 8}\n"
     ]
    }
   ],
   "source": [
    "my_set = {1, 2, 3, 4, 5, 6, 8}\n",
    "\n",
    "my_set.remove(4)\n",
    "print(my_set)\n",
    "\n",
    "my_set.remove(6)\n",
    "print(my_set)\n"
   ]
  },
  {
   "cell_type": "markdown",
   "metadata": {},
   "source": [
    "##### .union() "
   ]
  },
  {
   "cell_type": "code",
   "execution_count": 83,
   "metadata": {},
   "outputs": [
    {
     "name": "stdout",
     "output_type": "stream",
     "text": [
      "{1, 2, 3, 4, 5, 6, 8, 9, 10, 11, 12}\n",
      "{1, 2, 3, 4, 5, 6, 8, 9, 10, 11, 12}\n"
     ]
    }
   ],
   "source": [
    "#combine\n",
    "#myset.union(my_set2)\n",
    "my_set = {1, 2, 3, 4, 5, 6, 8}\n",
    "my_set2 = {2, 5, 9, 6, 10, 11, 12,}\n",
    "\n",
    "my_set3 = my_set.union(my_set2)\n",
    "\n",
    "print(my_set3)\n",
    "\n",
    "s1 = my_set | my_set2\n",
    "print(s1)"
   ]
  },
  {
   "cell_type": "markdown",
   "metadata": {},
   "source": [
    "##### .intersection()"
   ]
  },
  {
   "cell_type": "code",
   "execution_count": 85,
   "metadata": {},
   "outputs": [
    {
     "name": "stdout",
     "output_type": "stream",
     "text": [
      "{2, 5, 6}\n",
      "{2, 5, 6}\n"
     ]
    }
   ],
   "source": [
    "#common value\n",
    "#myset.intersection(my_set2)\n",
    "my_set = {1, 2, 3, 4, 5, 6, 8}\n",
    "my_set2 = {2, 5, 9, 6, 10, 11, 12,}\n",
    "\n",
    "my_set3 = my_set.intersection(my_set2)\n",
    "\n",
    "print(my_set3)\n",
    "\n",
    "s1 = my_set & my_set2\n",
    "print(s1)"
   ]
  },
  {
   "cell_type": "markdown",
   "metadata": {},
   "source": [
    "##### .difference()"
   ]
  },
  {
   "cell_type": "code",
   "execution_count": 88,
   "metadata": {},
   "outputs": [
    {
     "name": "stdout",
     "output_type": "stream",
     "text": [
      "{8, 1, 3, 4}\n",
      "{9, 10, 11, 12}\n"
     ]
    }
   ],
   "source": [
    "#Return the different value not in set 2\n",
    "\n",
    "my_set = {1, 2, 3, 4, 5, 6, 8}\n",
    "my_set2 = {2, 5, 9, 6, 10, 11, 12,}\n",
    "\n",
    "s3 = my_set - my_set2\n",
    "print(s3)\n",
    "\n",
    "s4 = my_set2.difference(my_set)\n",
    "print(s4)"
   ]
  },
  {
   "cell_type": "markdown",
   "metadata": {},
   "source": [
    "##### .clear()"
   ]
  },
  {
   "cell_type": "code",
   "execution_count": 90,
   "metadata": {},
   "outputs": [
    {
     "name": "stdout",
     "output_type": "stream",
     "text": [
      "{2, 5, 6, 9, 10, 11, 12}\n",
      "set()\n"
     ]
    }
   ],
   "source": [
    "#remove everything\n",
    "my_set2 = {2, 5, 9, 6, 10, 11, 12,}\n",
    "print(my_set2)\n",
    "\n",
    "my_set2.clear()\n",
    "\n",
    "print(my_set2)"
   ]
  },
  {
   "cell_type": "code",
   "execution_count": null,
   "metadata": {},
   "outputs": [],
   "source": []
  },
  {
   "cell_type": "markdown",
   "metadata": {},
   "source": [
    "##### Frozenset <br>\n",
    "<p>Frozen sets are immutable objects that only support methods and operators that produce a result without affecting the frozen set or sets to which they are applied.</p><br><b>Unique & Immutable</b>"
   ]
  },
  {
   "cell_type": "code",
   "execution_count": 95,
   "metadata": {},
   "outputs": [
    {
     "name": "stdout",
     "output_type": "stream",
     "text": [
      "{'Hello', 1, 2, 3, 4, 5, 6, 8, 11, 12, 'Dogs are sweet'}\n",
      "frozenset({'Hello', 1, 2, 3, 4, 5, 6, 8, 11, 12, 'Dogs are sweet'})\n",
      "{'Hello', 1, 2, 3, 4, 5, 6, 8, 11, 12, 'Dogs are sweet'}\n",
      "{'Hello', 1, 2, 3, 4, 5, 6, 8, 11, 12, 'Cool Beans', 'Dogs are sweet'}\n",
      "frozenset({'Hello', 1, 2, 3, 4, 5, 6, 8, 11, 12, 'Cool Beans', 'Dogs are sweet'})\n"
     ]
    }
   ],
   "source": [
    "#frozenset()\n",
    "\n",
    "my_set = {1, 2, 3, 4, 5, 6, 8,'Hello',11, 12,'Dogs are sweet'}\n",
    "\n",
    "print(my_set)\n",
    "\n",
    "frozen_set = frozenset(my_set)\n",
    "\n",
    "print(frozen_set)\n",
    "\n",
    "n2 = set(frozen_set)\n",
    "print(n2)\n",
    "\n",
    "n2.add(\"Cool Beans\")\n",
    "print(n2)\n",
    "\n",
    "frozen_set = frozenset(n2)\n",
    "print(frozen_set)"
   ]
  },
  {
   "cell_type": "markdown",
   "metadata": {},
   "source": [
    "# Exercises"
   ]
  },
  {
   "cell_type": "markdown",
   "metadata": {},
   "source": [
    "### 1) Build a Shopping Cart <br>\n",
    "<p><b>You can use either lists or dictionaries. The program should have the following capabilities:</b><br><br>\n",
    "1) Takes in input <br>\n",
    "2) Stores user input into a dictionary or list <br>\n",
    "3) The User can add or delete items <br>\n",
    "4) The User can see current shopping list <br>\n",
    "5) The program Loops until user 'quits' <br>\n",
    "6) Upon quiting the program, print out all items in the user's list <br>\n",
    "</p>"
   ]
  },
  {
   "cell_type": "code",
   "execution_count": 107,
   "metadata": {},
   "outputs": [
    {
     "name": "stdout",
     "output_type": "stream",
     "text": [
      "your cart is empty.\n"
     ]
    }
   ],
   "source": [
    "from IPython.display import clear_output\n",
    "\n",
    "# Ask the user four bits of input: Do you want to : Show/Add/Delete or Quit?\n",
    "\n",
    "#global veriable\n",
    "\n",
    "cart = []\n",
    "\n",
    "#function to add item to cart\n",
    "def addItem(item):\n",
    "    clear_output()\n",
    "    cart.append(item)\n",
    "    print(f\"{item} has been added to your cart.\")\n",
    "    \n",
    "#function to remove item from cart\n",
    "def removeItem(item):\n",
    "    clear_output()\n",
    "    for i in cart:\n",
    "        if i == item: \n",
    "            cart.remove(item)\n",
    "            print(f\"{item} has been removed from your cart.\")\n",
    "    else:\n",
    "        print(\"Sorry we could not remove that item.\")\n",
    "        \n",
    "\n",
    "#function to show items in cart\n",
    "def showCart():\n",
    "    clear_output()\n",
    "    if cart:\n",
    "        print(\"Here is your cart:\")\n",
    "        for i in cart:\n",
    "            print(f\"-{i}.\")\n",
    "    else:\n",
    "        print(\"your cart is empty.\")\n",
    "\n",
    "        \n",
    "#function to clear all items from cart\n",
    "def clearCart():\n",
    "    clear_output()\n",
    "    cart.clear()\n",
    "    print(\"Your cart is empty.\")\n",
    "    \n",
    "    \n",
    "\n",
    "#the main sunction of menu unless customer quits\n",
    "\n",
    "def main():\n",
    "    done = False\n",
    "    \n",
    "    while not done:\n",
    "        print(\"To add items in cart enter 'add'\")\n",
    "        print(\"To remove items from cart enter 'remove'\")\n",
    "        print(\"To see all items in cart enter 'show'\")\n",
    "        print(\"To empty your cart enter 'clear'\")\n",
    "        print(\"If finish shopping enter 'quit'\")\n",
    "        ans = input('Enter your choice: ').lower()\n",
    "        \n",
    "        \n",
    "        #checking case\n",
    "        if ans == 'quit':\n",
    "            print('Thanks for visiting')\n",
    "            showCart()\n",
    "            done = True\n",
    "        elif ans == 'add':\n",
    "            item = input(\"What would ypou like to add? \").title()\n",
    "            addItem(item)\n",
    "        elif ans == 'remove':\n",
    "            showCart()\n",
    "            item = input(\"Which item from your cart you want to remove? \").title()\n",
    "            removeItem(item)\n",
    "        elif ans == 'show':\n",
    "            showCart()\n",
    "        elif ans == 'clear':\n",
    "            clearCart()\n",
    "        else:\n",
    "            print('\\n Sorry that was not a valid option')\n",
    "\n",
    "            \n",
    "#run a program\n",
    "main()\n",
    "\n"
   ]
  },
  {
   "cell_type": "markdown",
   "metadata": {},
   "source": [
    "### 2) Set Practice"
   ]
  },
  {
   "cell_type": "markdown",
   "metadata": {},
   "source": [
    "<p><b>Remove all duplicates from the following list</b></p>"
   ]
  },
  {
   "cell_type": "code",
   "execution_count": 96,
   "metadata": {},
   "outputs": [
    {
     "name": "stdout",
     "output_type": "stream",
     "text": [
      "{1, 2, 3, 4, 5, 6, 11, 12, 14, 16}\n"
     ]
    }
   ],
   "source": [
    "nums_list = [1, 1, 1, 2, 2, 3, 5, 6, 4, 12, 11, 12, 12, 14, 16, 16, 16, 1, 1, 1, 2, 2]\n",
    "\n",
    "my_set = set(nums_list)\n",
    "print(my_set)"
   ]
  },
  {
   "cell_type": "markdown",
   "metadata": {},
   "source": [
    "<p><b>Out put the intersection of the following the following sets.</b></p>"
   ]
  },
  {
   "cell_type": "code",
   "execution_count": 97,
   "metadata": {},
   "outputs": [
    {
     "name": "stdout",
     "output_type": "stream",
     "text": [
      "{26, 27}\n",
      "{26, 27}\n"
     ]
    }
   ],
   "source": [
    "set1 = {20, 24, 26, 27}\n",
    "set2 = {26, 35, 63, 27}\n",
    "\n",
    "set3 = set1.intersection(set2)\n",
    "print(set3)\n",
    "\n",
    "set4 =set2 & set1\n",
    "print(set4)"
   ]
  },
  {
   "cell_type": "markdown",
   "metadata": {},
   "source": [
    "<p><b>Output the difference between the following sets</b></p>"
   ]
  },
  {
   "cell_type": "code",
   "execution_count": 98,
   "metadata": {},
   "outputs": [
    {
     "name": "stdout",
     "output_type": "stream",
     "text": [
      "{24, 20}\n",
      "{35, 63}\n"
     ]
    }
   ],
   "source": [
    "set3 = {100, 65, 89, 200}\n",
    "set4 = {65, 103, 54, 200}\n",
    "\n",
    "set3 = set1.difference(set2)\n",
    "print(set3)\n",
    "\n",
    "set4 = set2 - set1\n",
    "print(set4)"
   ]
  }
 ],
 "metadata": {
  "kernelspec": {
   "display_name": "Python 3 (ipykernel)",
   "language": "python",
   "name": "python3"
  },
  "language_info": {
   "codemirror_mode": {
    "name": "ipython",
    "version": 3
   },
   "file_extension": ".py",
   "mimetype": "text/x-python",
   "name": "python",
   "nbconvert_exporter": "python",
   "pygments_lexer": "ipython3",
   "version": "3.9.7"
  }
 },
 "nbformat": 4,
 "nbformat_minor": 2
}
